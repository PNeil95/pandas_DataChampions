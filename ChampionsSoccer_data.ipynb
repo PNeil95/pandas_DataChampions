{
  "nbformat": 4,
  "nbformat_minor": 0,
  "metadata": {
    "colab": {
      "name": "ChampionsSoccer-data.ipynb",
      "provenance": [],
      "collapsed_sections": [],
      "authorship_tag": "ABX9TyMgjS4YKMJB7CN/5Udm6SAw",
      "include_colab_link": true
    },
    "kernelspec": {
      "name": "python3",
      "display_name": "Python 3"
    },
    "language_info": {
      "name": "python"
    }
  },
  "cells": [
    {
      "cell_type": "markdown",
      "metadata": {
        "id": "view-in-github",
        "colab_type": "text"
      },
      "source": [
        "<a href=\"https://colab.research.google.com/github/PNeil95/pandas_DataChampions/blob/main/ChampionsSoccer_data.ipynb\" target=\"_parent\"><img src=\"https://colab.research.google.com/assets/colab-badge.svg\" alt=\"Open In Colab\"/></a>"
      ]
    },
    {
      "cell_type": "markdown",
      "source": [
        "***Importando librerias***"
      ],
      "metadata": {
        "id": "DcmH0A_W3643"
      }
    },
    {
      "cell_type": "code",
      "execution_count": null,
      "metadata": {
        "id": "S34J_Qzhwtp0"
      },
      "outputs": [],
      "source": [
        "import pandas as pd\n",
        "import matplotlib.pyplot as plt"
      ]
    },
    {
      "cell_type": "code",
      "source": [
        "df = pd.read_excel('/content/champions.xlsx')"
      ],
      "metadata": {
        "id": "la63oH4fxLk1"
      },
      "execution_count": null,
      "outputs": []
    },
    {
      "cell_type": "markdown",
      "source": [
        "***Inspeccionamos datos***"
      ],
      "metadata": {
        "id": "zPJo0v1QxcbM"
      }
    },
    {
      "cell_type": "code",
      "source": [
        "df.info()"
      ],
      "metadata": {
        "colab": {
          "base_uri": "https://localhost:8080/"
        },
        "id": "v1QnwM3LxbAb",
        "outputId": "e6202f5c-843e-4c49-ec2a-afcb48cc3de7"
      },
      "execution_count": null,
      "outputs": [
        {
          "output_type": "stream",
          "name": "stdout",
          "text": [
            "<class 'pandas.core.frame.DataFrame'>\n",
            "RangeIndex: 62 entries, 0 to 61\n",
            "Data columns (total 19 columns):\n",
            " #   Column             Non-Null Count  Dtype \n",
            "---  ------             --------------  ----- \n",
            " 0   Season             62 non-null     object\n",
            " 1   Winner             62 non-null     object\n",
            " 2   Winner Country     62 non-null     object\n",
            " 3   Winner Score       62 non-null     int64 \n",
            " 4   scorer 1           58 non-null     object\n",
            " 5   scorer 2           37 non-null     object\n",
            " 6   scorer 3           20 non-null     object\n",
            " 7   scorer 4           10 non-null     object\n",
            " 8   scorer 5           2 non-null      object\n",
            " 9   scorer 6           1 non-null      object\n",
            " 10  scorer 7           1 non-null      object\n",
            " 11  Finalist Score     62 non-null     int64 \n",
            " 12  opponent scorer 1  31 non-null     object\n",
            " 13  opponent scorer 2  6 non-null      object\n",
            " 14  opponent scorer 3  4 non-null      object\n",
            " 15  Finalist           62 non-null     object\n",
            " 16  Finalist Country   62 non-null     object\n",
            " 17  Venue              62 non-null     object\n",
            " 18  Attendance         62 non-null     int64 \n",
            "dtypes: int64(3), object(16)\n",
            "memory usage: 9.3+ KB\n"
          ]
        }
      ]
    },
    {
      "cell_type": "markdown",
      "source": [
        "Ver inicio y final del Df con head() y tail()"
      ],
      "metadata": {
        "id": "0LQxTsFrxnFT"
      }
    },
    {
      "cell_type": "code",
      "source": [
        "df.head()"
      ],
      "metadata": {
        "colab": {
          "base_uri": "https://localhost:8080/",
          "height": 467
        },
        "id": "6uLoetqBxmxT",
        "outputId": "295e8039-e576-447b-9cbb-c497ee5e45a3"
      },
      "execution_count": null,
      "outputs": [
        {
          "output_type": "execute_result",
          "data": {
            "text/html": [
              "<div>\n",
              "<style scoped>\n",
              "    .dataframe tbody tr th:only-of-type {\n",
              "        vertical-align: middle;\n",
              "    }\n",
              "\n",
              "    .dataframe tbody tr th {\n",
              "        vertical-align: top;\n",
              "    }\n",
              "\n",
              "    .dataframe thead th {\n",
              "        text-align: right;\n",
              "    }\n",
              "</style>\n",
              "<table border=\"1\" class=\"dataframe\">\n",
              "  <thead>\n",
              "    <tr style=\"text-align: right;\">\n",
              "      <th></th>\n",
              "      <th>Season</th>\n",
              "      <th>Winner</th>\n",
              "      <th>Winner Country</th>\n",
              "      <th>Winner Score</th>\n",
              "      <th>scorer 1</th>\n",
              "      <th>scorer 2</th>\n",
              "      <th>scorer 3</th>\n",
              "      <th>scorer 4</th>\n",
              "      <th>scorer 5</th>\n",
              "      <th>scorer 6</th>\n",
              "      <th>scorer 7</th>\n",
              "      <th>Finalist Score</th>\n",
              "      <th>opponent scorer 1</th>\n",
              "      <th>opponent scorer 2</th>\n",
              "      <th>opponent scorer 3</th>\n",
              "      <th>Finalist</th>\n",
              "      <th>Finalist Country</th>\n",
              "      <th>Venue</th>\n",
              "      <th>Attendance</th>\n",
              "    </tr>\n",
              "  </thead>\n",
              "  <tbody>\n",
              "    <tr>\n",
              "      <th>0</th>\n",
              "      <td>1955–56</td>\n",
              "      <td>Real Madrid</td>\n",
              "      <td>Spain</td>\n",
              "      <td>4</td>\n",
              "      <td>Di Stefano</td>\n",
              "      <td>Rial</td>\n",
              "      <td>Marquitos</td>\n",
              "      <td>Rial</td>\n",
              "      <td>NaN</td>\n",
              "      <td>NaN</td>\n",
              "      <td>NaN</td>\n",
              "      <td>3</td>\n",
              "      <td>Leblond</td>\n",
              "      <td>Templin</td>\n",
              "      <td>Hidalgo</td>\n",
              "      <td>Stade de Reims</td>\n",
              "      <td>France</td>\n",
              "      <td>France Parc des Princes, Paris</td>\n",
              "      <td>38239</td>\n",
              "    </tr>\n",
              "    <tr>\n",
              "      <th>1</th>\n",
              "      <td>1956–57</td>\n",
              "      <td>Real Madrid</td>\n",
              "      <td>Spain</td>\n",
              "      <td>2</td>\n",
              "      <td>Di Stefano</td>\n",
              "      <td>Gento</td>\n",
              "      <td>NaN</td>\n",
              "      <td>NaN</td>\n",
              "      <td>NaN</td>\n",
              "      <td>NaN</td>\n",
              "      <td>NaN</td>\n",
              "      <td>0</td>\n",
              "      <td>NaN</td>\n",
              "      <td>NaN</td>\n",
              "      <td>NaN</td>\n",
              "      <td>Fiorentina</td>\n",
              "      <td>Italy</td>\n",
              "      <td>Spain Santiago Bernabéu Stadium, Madrid</td>\n",
              "      <td>124000</td>\n",
              "    </tr>\n",
              "    <tr>\n",
              "      <th>2</th>\n",
              "      <td>1957–58</td>\n",
              "      <td>Real Madrid</td>\n",
              "      <td>Spain</td>\n",
              "      <td>3</td>\n",
              "      <td>Di Stefano</td>\n",
              "      <td>Rial</td>\n",
              "      <td>Gento</td>\n",
              "      <td>NaN</td>\n",
              "      <td>NaN</td>\n",
              "      <td>NaN</td>\n",
              "      <td>NaN</td>\n",
              "      <td>2</td>\n",
              "      <td>Schiaffino</td>\n",
              "      <td>Grillo</td>\n",
              "      <td>NaN</td>\n",
              "      <td>Milan</td>\n",
              "      <td>Italy</td>\n",
              "      <td>Belgium Heysel Stadium, Brussels</td>\n",
              "      <td>67000</td>\n",
              "    </tr>\n",
              "    <tr>\n",
              "      <th>3</th>\n",
              "      <td>1958–59</td>\n",
              "      <td>Real Madrid</td>\n",
              "      <td>Spain</td>\n",
              "      <td>2</td>\n",
              "      <td>Mateos</td>\n",
              "      <td>Di Stefano</td>\n",
              "      <td>NaN</td>\n",
              "      <td>NaN</td>\n",
              "      <td>NaN</td>\n",
              "      <td>NaN</td>\n",
              "      <td>NaN</td>\n",
              "      <td>0</td>\n",
              "      <td>NaN</td>\n",
              "      <td>NaN</td>\n",
              "      <td>NaN</td>\n",
              "      <td>Stade de Reims</td>\n",
              "      <td>France</td>\n",
              "      <td>West Germany Neckarstadion, Stuttgart</td>\n",
              "      <td>72000</td>\n",
              "    </tr>\n",
              "    <tr>\n",
              "      <th>4</th>\n",
              "      <td>1959–60</td>\n",
              "      <td>Real Madrid</td>\n",
              "      <td>Spain</td>\n",
              "      <td>7</td>\n",
              "      <td>Di Stefano</td>\n",
              "      <td>Di Stefano</td>\n",
              "      <td>Puskas</td>\n",
              "      <td>Puskas</td>\n",
              "      <td>Puskas</td>\n",
              "      <td>Puskas</td>\n",
              "      <td>Di Stefano</td>\n",
              "      <td>3</td>\n",
              "      <td>Kreiss</td>\n",
              "      <td>Stein</td>\n",
              "      <td>Stein</td>\n",
              "      <td>Eintracht Frankfurt</td>\n",
              "      <td>West Germany</td>\n",
              "      <td>Scotland Hampden Park, Glasgow</td>\n",
              "      <td>127621</td>\n",
              "    </tr>\n",
              "  </tbody>\n",
              "</table>\n",
              "</div>"
            ],
            "text/plain": [
              "    Season       Winner  ...                                    Venue  Attendance\n",
              "0  1955–56  Real Madrid  ...           France Parc des Princes, Paris       38239\n",
              "1  1956–57  Real Madrid  ...  Spain Santiago Bernabéu Stadium, Madrid      124000\n",
              "2  1957–58  Real Madrid  ...         Belgium Heysel Stadium, Brussels       67000\n",
              "3  1958–59  Real Madrid  ...    West Germany Neckarstadion, Stuttgart       72000\n",
              "4  1959–60  Real Madrid  ...           Scotland Hampden Park, Glasgow      127621\n",
              "\n",
              "[5 rows x 19 columns]"
            ]
          },
          "metadata": {},
          "execution_count": 4
        }
      ]
    },
    {
      "cell_type": "code",
      "source": [
        "df.tail()"
      ],
      "metadata": {
        "colab": {
          "base_uri": "https://localhost:8080/",
          "height": 433
        },
        "id": "mhIFTRcKxtpH",
        "outputId": "2bcefd2a-79c7-4e95-9c05-c92a7146050b"
      },
      "execution_count": null,
      "outputs": [
        {
          "output_type": "execute_result",
          "data": {
            "text/html": [
              "<div>\n",
              "<style scoped>\n",
              "    .dataframe tbody tr th:only-of-type {\n",
              "        vertical-align: middle;\n",
              "    }\n",
              "\n",
              "    .dataframe tbody tr th {\n",
              "        vertical-align: top;\n",
              "    }\n",
              "\n",
              "    .dataframe thead th {\n",
              "        text-align: right;\n",
              "    }\n",
              "</style>\n",
              "<table border=\"1\" class=\"dataframe\">\n",
              "  <thead>\n",
              "    <tr style=\"text-align: right;\">\n",
              "      <th></th>\n",
              "      <th>Season</th>\n",
              "      <th>Winner</th>\n",
              "      <th>Winner Country</th>\n",
              "      <th>Winner Score</th>\n",
              "      <th>scorer 1</th>\n",
              "      <th>scorer 2</th>\n",
              "      <th>scorer 3</th>\n",
              "      <th>scorer 4</th>\n",
              "      <th>scorer 5</th>\n",
              "      <th>scorer 6</th>\n",
              "      <th>scorer 7</th>\n",
              "      <th>Finalist Score</th>\n",
              "      <th>opponent scorer 1</th>\n",
              "      <th>opponent scorer 2</th>\n",
              "      <th>opponent scorer 3</th>\n",
              "      <th>Finalist</th>\n",
              "      <th>Finalist Country</th>\n",
              "      <th>Venue</th>\n",
              "      <th>Attendance</th>\n",
              "    </tr>\n",
              "  </thead>\n",
              "  <tbody>\n",
              "    <tr>\n",
              "      <th>57</th>\n",
              "      <td>2012–13</td>\n",
              "      <td>Bayern Munich</td>\n",
              "      <td>Germany</td>\n",
              "      <td>2</td>\n",
              "      <td>Mandzukic</td>\n",
              "      <td>Robben</td>\n",
              "      <td>NaN</td>\n",
              "      <td>NaN</td>\n",
              "      <td>NaN</td>\n",
              "      <td>NaN</td>\n",
              "      <td>NaN</td>\n",
              "      <td>1</td>\n",
              "      <td>Gundogan</td>\n",
              "      <td>NaN</td>\n",
              "      <td>NaN</td>\n",
              "      <td>Borussia Dortmund</td>\n",
              "      <td>Germany</td>\n",
              "      <td>England Wembley Stadium, London</td>\n",
              "      <td>86298</td>\n",
              "    </tr>\n",
              "    <tr>\n",
              "      <th>58</th>\n",
              "      <td>2013–14</td>\n",
              "      <td>Real Madrid</td>\n",
              "      <td>Spain</td>\n",
              "      <td>4</td>\n",
              "      <td>Ramos</td>\n",
              "      <td>Bale</td>\n",
              "      <td>Marcelo</td>\n",
              "      <td>Ronaldo</td>\n",
              "      <td>NaN</td>\n",
              "      <td>NaN</td>\n",
              "      <td>NaN</td>\n",
              "      <td>1</td>\n",
              "      <td>Godin</td>\n",
              "      <td>NaN</td>\n",
              "      <td>NaN</td>\n",
              "      <td>Atlético Madrid</td>\n",
              "      <td>Spain</td>\n",
              "      <td>Portugal Estádio da Luz, Lisbon</td>\n",
              "      <td>60976</td>\n",
              "    </tr>\n",
              "    <tr>\n",
              "      <th>59</th>\n",
              "      <td>2014–15</td>\n",
              "      <td>Barcelona</td>\n",
              "      <td>Spain</td>\n",
              "      <td>3</td>\n",
              "      <td>Rakiric</td>\n",
              "      <td>Suarez</td>\n",
              "      <td>Neymar</td>\n",
              "      <td>NaN</td>\n",
              "      <td>NaN</td>\n",
              "      <td>NaN</td>\n",
              "      <td>NaN</td>\n",
              "      <td>1</td>\n",
              "      <td>Morata</td>\n",
              "      <td>NaN</td>\n",
              "      <td>NaN</td>\n",
              "      <td>Juventus</td>\n",
              "      <td>Italy</td>\n",
              "      <td>Germany Olympiastadion, Berlin</td>\n",
              "      <td>70442</td>\n",
              "    </tr>\n",
              "    <tr>\n",
              "      <th>60</th>\n",
              "      <td>2015–16</td>\n",
              "      <td>Real Madrid</td>\n",
              "      <td>Spain</td>\n",
              "      <td>1</td>\n",
              "      <td>Ramos</td>\n",
              "      <td>NaN</td>\n",
              "      <td>NaN</td>\n",
              "      <td>NaN</td>\n",
              "      <td>NaN</td>\n",
              "      <td>NaN</td>\n",
              "      <td>NaN</td>\n",
              "      <td>1</td>\n",
              "      <td>Carrasco</td>\n",
              "      <td>NaN</td>\n",
              "      <td>NaN</td>\n",
              "      <td>Atlético Madrid</td>\n",
              "      <td>Spain</td>\n",
              "      <td>Italy San Siro, Milan</td>\n",
              "      <td>71942</td>\n",
              "    </tr>\n",
              "    <tr>\n",
              "      <th>61</th>\n",
              "      <td>2016–17</td>\n",
              "      <td>Real Madrid</td>\n",
              "      <td>Spain</td>\n",
              "      <td>4</td>\n",
              "      <td>Ronaldo</td>\n",
              "      <td>Casemiro</td>\n",
              "      <td>Ronaldo</td>\n",
              "      <td>Asensio</td>\n",
              "      <td>NaN</td>\n",
              "      <td>NaN</td>\n",
              "      <td>NaN</td>\n",
              "      <td>1</td>\n",
              "      <td>Mandzukic</td>\n",
              "      <td>NaN</td>\n",
              "      <td>NaN</td>\n",
              "      <td>Juventus</td>\n",
              "      <td>Italy</td>\n",
              "      <td>Wales Millennium Stadium, Cardiff</td>\n",
              "      <td>65842</td>\n",
              "    </tr>\n",
              "  </tbody>\n",
              "</table>\n",
              "</div>"
            ],
            "text/plain": [
              "     Season         Winner  ...                              Venue  Attendance\n",
              "57  2012–13  Bayern Munich  ...    England Wembley Stadium, London       86298\n",
              "58  2013–14    Real Madrid  ...    Portugal Estádio da Luz, Lisbon       60976\n",
              "59  2014–15      Barcelona  ...     Germany Olympiastadion, Berlin       70442\n",
              "60  2015–16    Real Madrid  ...              Italy San Siro, Milan       71942\n",
              "61  2016–17    Real Madrid  ...  Wales Millennium Stadium, Cardiff       65842\n",
              "\n",
              "[5 rows x 19 columns]"
            ]
          },
          "metadata": {},
          "execution_count": 5
        }
      ]
    },
    {
      "cell_type": "markdown",
      "source": [
        "Crear una columna que contenga el numero de goles por partido"
      ],
      "metadata": {
        "id": "EYNRzDuyx9v9"
      }
    },
    {
      "cell_type": "code",
      "source": [
        "df['Game'] = df['Winner'] + 'vs.' + df['Finalist']\n",
        "df.head()"
      ],
      "metadata": {
        "colab": {
          "base_uri": "https://localhost:8080/",
          "height": 467
        },
        "id": "ROP4K8QMyQPI",
        "outputId": "c6292b05-67a1-4282-c016-40c6af53ba9f"
      },
      "execution_count": null,
      "outputs": [
        {
          "output_type": "execute_result",
          "data": {
            "text/html": [
              "<div>\n",
              "<style scoped>\n",
              "    .dataframe tbody tr th:only-of-type {\n",
              "        vertical-align: middle;\n",
              "    }\n",
              "\n",
              "    .dataframe tbody tr th {\n",
              "        vertical-align: top;\n",
              "    }\n",
              "\n",
              "    .dataframe thead th {\n",
              "        text-align: right;\n",
              "    }\n",
              "</style>\n",
              "<table border=\"1\" class=\"dataframe\">\n",
              "  <thead>\n",
              "    <tr style=\"text-align: right;\">\n",
              "      <th></th>\n",
              "      <th>Season</th>\n",
              "      <th>Winner</th>\n",
              "      <th>Winner Country</th>\n",
              "      <th>Winner Score</th>\n",
              "      <th>scorer 1</th>\n",
              "      <th>scorer 2</th>\n",
              "      <th>scorer 3</th>\n",
              "      <th>scorer 4</th>\n",
              "      <th>scorer 5</th>\n",
              "      <th>scorer 6</th>\n",
              "      <th>scorer 7</th>\n",
              "      <th>Finalist Score</th>\n",
              "      <th>opponent scorer 1</th>\n",
              "      <th>opponent scorer 2</th>\n",
              "      <th>opponent scorer 3</th>\n",
              "      <th>Finalist</th>\n",
              "      <th>Finalist Country</th>\n",
              "      <th>Venue</th>\n",
              "      <th>Attendance</th>\n",
              "      <th>Game</th>\n",
              "      <th>Result</th>\n",
              "    </tr>\n",
              "  </thead>\n",
              "  <tbody>\n",
              "    <tr>\n",
              "      <th>0</th>\n",
              "      <td>1955–56</td>\n",
              "      <td>Real Madrid</td>\n",
              "      <td>Spain</td>\n",
              "      <td>4</td>\n",
              "      <td>Di Stefano</td>\n",
              "      <td>Rial</td>\n",
              "      <td>Marquitos</td>\n",
              "      <td>Rial</td>\n",
              "      <td>NaN</td>\n",
              "      <td>NaN</td>\n",
              "      <td>NaN</td>\n",
              "      <td>3</td>\n",
              "      <td>Leblond</td>\n",
              "      <td>Templin</td>\n",
              "      <td>Hidalgo</td>\n",
              "      <td>Stade de Reims</td>\n",
              "      <td>France</td>\n",
              "      <td>France Parc des Princes, Paris</td>\n",
              "      <td>38239</td>\n",
              "      <td>Real Madridvs.Stade de Reims</td>\n",
              "      <td>4-3</td>\n",
              "    </tr>\n",
              "    <tr>\n",
              "      <th>1</th>\n",
              "      <td>1956–57</td>\n",
              "      <td>Real Madrid</td>\n",
              "      <td>Spain</td>\n",
              "      <td>2</td>\n",
              "      <td>Di Stefano</td>\n",
              "      <td>Gento</td>\n",
              "      <td>NaN</td>\n",
              "      <td>NaN</td>\n",
              "      <td>NaN</td>\n",
              "      <td>NaN</td>\n",
              "      <td>NaN</td>\n",
              "      <td>0</td>\n",
              "      <td>NaN</td>\n",
              "      <td>NaN</td>\n",
              "      <td>NaN</td>\n",
              "      <td>Fiorentina</td>\n",
              "      <td>Italy</td>\n",
              "      <td>Spain Santiago Bernabéu Stadium, Madrid</td>\n",
              "      <td>124000</td>\n",
              "      <td>Real Madridvs.Fiorentina</td>\n",
              "      <td>2-0</td>\n",
              "    </tr>\n",
              "    <tr>\n",
              "      <th>2</th>\n",
              "      <td>1957–58</td>\n",
              "      <td>Real Madrid</td>\n",
              "      <td>Spain</td>\n",
              "      <td>3</td>\n",
              "      <td>Di Stefano</td>\n",
              "      <td>Rial</td>\n",
              "      <td>Gento</td>\n",
              "      <td>NaN</td>\n",
              "      <td>NaN</td>\n",
              "      <td>NaN</td>\n",
              "      <td>NaN</td>\n",
              "      <td>2</td>\n",
              "      <td>Schiaffino</td>\n",
              "      <td>Grillo</td>\n",
              "      <td>NaN</td>\n",
              "      <td>Milan</td>\n",
              "      <td>Italy</td>\n",
              "      <td>Belgium Heysel Stadium, Brussels</td>\n",
              "      <td>67000</td>\n",
              "      <td>Real Madridvs.Milan</td>\n",
              "      <td>3-2</td>\n",
              "    </tr>\n",
              "    <tr>\n",
              "      <th>3</th>\n",
              "      <td>1958–59</td>\n",
              "      <td>Real Madrid</td>\n",
              "      <td>Spain</td>\n",
              "      <td>2</td>\n",
              "      <td>Mateos</td>\n",
              "      <td>Di Stefano</td>\n",
              "      <td>NaN</td>\n",
              "      <td>NaN</td>\n",
              "      <td>NaN</td>\n",
              "      <td>NaN</td>\n",
              "      <td>NaN</td>\n",
              "      <td>0</td>\n",
              "      <td>NaN</td>\n",
              "      <td>NaN</td>\n",
              "      <td>NaN</td>\n",
              "      <td>Stade de Reims</td>\n",
              "      <td>France</td>\n",
              "      <td>West Germany Neckarstadion, Stuttgart</td>\n",
              "      <td>72000</td>\n",
              "      <td>Real Madridvs.Stade de Reims</td>\n",
              "      <td>2-0</td>\n",
              "    </tr>\n",
              "    <tr>\n",
              "      <th>4</th>\n",
              "      <td>1959–60</td>\n",
              "      <td>Real Madrid</td>\n",
              "      <td>Spain</td>\n",
              "      <td>7</td>\n",
              "      <td>Di Stefano</td>\n",
              "      <td>Di Stefano</td>\n",
              "      <td>Puskas</td>\n",
              "      <td>Puskas</td>\n",
              "      <td>Puskas</td>\n",
              "      <td>Puskas</td>\n",
              "      <td>Di Stefano</td>\n",
              "      <td>3</td>\n",
              "      <td>Kreiss</td>\n",
              "      <td>Stein</td>\n",
              "      <td>Stein</td>\n",
              "      <td>Eintracht Frankfurt</td>\n",
              "      <td>West Germany</td>\n",
              "      <td>Scotland Hampden Park, Glasgow</td>\n",
              "      <td>127621</td>\n",
              "      <td>Real Madridvs.Eintracht Frankfurt</td>\n",
              "      <td>7-3</td>\n",
              "    </tr>\n",
              "  </tbody>\n",
              "</table>\n",
              "</div>"
            ],
            "text/plain": [
              "    Season       Winner  ...                               Game  Result\n",
              "0  1955–56  Real Madrid  ...       Real Madridvs.Stade de Reims     4-3\n",
              "1  1956–57  Real Madrid  ...           Real Madridvs.Fiorentina     2-0\n",
              "2  1957–58  Real Madrid  ...                Real Madridvs.Milan     3-2\n",
              "3  1958–59  Real Madrid  ...       Real Madridvs.Stade de Reims     2-0\n",
              "4  1959–60  Real Madrid  ...  Real Madridvs.Eintracht Frankfurt     7-3\n",
              "\n",
              "[5 rows x 21 columns]"
            ]
          },
          "metadata": {},
          "execution_count": 9
        }
      ]
    },
    {
      "cell_type": "code",
      "source": [
        "df['Result'] = df['Winner Score'].astype(str) + '-' + df['Finalist Score'].astype(str)\n",
        "df.head()"
      ],
      "metadata": {
        "colab": {
          "base_uri": "https://localhost:8080/",
          "height": 467
        },
        "id": "mGSkB9ELyfKK",
        "outputId": "19a6c3bf-ac29-420c-865b-3ed3c05782c2"
      },
      "execution_count": null,
      "outputs": [
        {
          "output_type": "execute_result",
          "data": {
            "text/html": [
              "<div>\n",
              "<style scoped>\n",
              "    .dataframe tbody tr th:only-of-type {\n",
              "        vertical-align: middle;\n",
              "    }\n",
              "\n",
              "    .dataframe tbody tr th {\n",
              "        vertical-align: top;\n",
              "    }\n",
              "\n",
              "    .dataframe thead th {\n",
              "        text-align: right;\n",
              "    }\n",
              "</style>\n",
              "<table border=\"1\" class=\"dataframe\">\n",
              "  <thead>\n",
              "    <tr style=\"text-align: right;\">\n",
              "      <th></th>\n",
              "      <th>Season</th>\n",
              "      <th>Winner</th>\n",
              "      <th>Winner Country</th>\n",
              "      <th>Winner Score</th>\n",
              "      <th>scorer 1</th>\n",
              "      <th>scorer 2</th>\n",
              "      <th>scorer 3</th>\n",
              "      <th>scorer 4</th>\n",
              "      <th>scorer 5</th>\n",
              "      <th>scorer 6</th>\n",
              "      <th>scorer 7</th>\n",
              "      <th>Finalist Score</th>\n",
              "      <th>opponent scorer 1</th>\n",
              "      <th>opponent scorer 2</th>\n",
              "      <th>opponent scorer 3</th>\n",
              "      <th>Finalist</th>\n",
              "      <th>Finalist Country</th>\n",
              "      <th>Venue</th>\n",
              "      <th>Attendance</th>\n",
              "      <th>Game</th>\n",
              "      <th>Result</th>\n",
              "    </tr>\n",
              "  </thead>\n",
              "  <tbody>\n",
              "    <tr>\n",
              "      <th>0</th>\n",
              "      <td>1955–56</td>\n",
              "      <td>Real Madrid</td>\n",
              "      <td>Spain</td>\n",
              "      <td>4</td>\n",
              "      <td>Di Stefano</td>\n",
              "      <td>Rial</td>\n",
              "      <td>Marquitos</td>\n",
              "      <td>Rial</td>\n",
              "      <td>NaN</td>\n",
              "      <td>NaN</td>\n",
              "      <td>NaN</td>\n",
              "      <td>3</td>\n",
              "      <td>Leblond</td>\n",
              "      <td>Templin</td>\n",
              "      <td>Hidalgo</td>\n",
              "      <td>Stade de Reims</td>\n",
              "      <td>France</td>\n",
              "      <td>France Parc des Princes, Paris</td>\n",
              "      <td>38239</td>\n",
              "      <td>Real Madridvs.Stade de Reims</td>\n",
              "      <td>4-3</td>\n",
              "    </tr>\n",
              "    <tr>\n",
              "      <th>1</th>\n",
              "      <td>1956–57</td>\n",
              "      <td>Real Madrid</td>\n",
              "      <td>Spain</td>\n",
              "      <td>2</td>\n",
              "      <td>Di Stefano</td>\n",
              "      <td>Gento</td>\n",
              "      <td>NaN</td>\n",
              "      <td>NaN</td>\n",
              "      <td>NaN</td>\n",
              "      <td>NaN</td>\n",
              "      <td>NaN</td>\n",
              "      <td>0</td>\n",
              "      <td>NaN</td>\n",
              "      <td>NaN</td>\n",
              "      <td>NaN</td>\n",
              "      <td>Fiorentina</td>\n",
              "      <td>Italy</td>\n",
              "      <td>Spain Santiago Bernabéu Stadium, Madrid</td>\n",
              "      <td>124000</td>\n",
              "      <td>Real Madridvs.Fiorentina</td>\n",
              "      <td>2-0</td>\n",
              "    </tr>\n",
              "    <tr>\n",
              "      <th>2</th>\n",
              "      <td>1957–58</td>\n",
              "      <td>Real Madrid</td>\n",
              "      <td>Spain</td>\n",
              "      <td>3</td>\n",
              "      <td>Di Stefano</td>\n",
              "      <td>Rial</td>\n",
              "      <td>Gento</td>\n",
              "      <td>NaN</td>\n",
              "      <td>NaN</td>\n",
              "      <td>NaN</td>\n",
              "      <td>NaN</td>\n",
              "      <td>2</td>\n",
              "      <td>Schiaffino</td>\n",
              "      <td>Grillo</td>\n",
              "      <td>NaN</td>\n",
              "      <td>Milan</td>\n",
              "      <td>Italy</td>\n",
              "      <td>Belgium Heysel Stadium, Brussels</td>\n",
              "      <td>67000</td>\n",
              "      <td>Real Madridvs.Milan</td>\n",
              "      <td>3-2</td>\n",
              "    </tr>\n",
              "    <tr>\n",
              "      <th>3</th>\n",
              "      <td>1958–59</td>\n",
              "      <td>Real Madrid</td>\n",
              "      <td>Spain</td>\n",
              "      <td>2</td>\n",
              "      <td>Mateos</td>\n",
              "      <td>Di Stefano</td>\n",
              "      <td>NaN</td>\n",
              "      <td>NaN</td>\n",
              "      <td>NaN</td>\n",
              "      <td>NaN</td>\n",
              "      <td>NaN</td>\n",
              "      <td>0</td>\n",
              "      <td>NaN</td>\n",
              "      <td>NaN</td>\n",
              "      <td>NaN</td>\n",
              "      <td>Stade de Reims</td>\n",
              "      <td>France</td>\n",
              "      <td>West Germany Neckarstadion, Stuttgart</td>\n",
              "      <td>72000</td>\n",
              "      <td>Real Madridvs.Stade de Reims</td>\n",
              "      <td>2-0</td>\n",
              "    </tr>\n",
              "    <tr>\n",
              "      <th>4</th>\n",
              "      <td>1959–60</td>\n",
              "      <td>Real Madrid</td>\n",
              "      <td>Spain</td>\n",
              "      <td>7</td>\n",
              "      <td>Di Stefano</td>\n",
              "      <td>Di Stefano</td>\n",
              "      <td>Puskas</td>\n",
              "      <td>Puskas</td>\n",
              "      <td>Puskas</td>\n",
              "      <td>Puskas</td>\n",
              "      <td>Di Stefano</td>\n",
              "      <td>3</td>\n",
              "      <td>Kreiss</td>\n",
              "      <td>Stein</td>\n",
              "      <td>Stein</td>\n",
              "      <td>Eintracht Frankfurt</td>\n",
              "      <td>West Germany</td>\n",
              "      <td>Scotland Hampden Park, Glasgow</td>\n",
              "      <td>127621</td>\n",
              "      <td>Real Madridvs.Eintracht Frankfurt</td>\n",
              "      <td>7-3</td>\n",
              "    </tr>\n",
              "  </tbody>\n",
              "</table>\n",
              "</div>"
            ],
            "text/plain": [
              "    Season       Winner  ...                               Game  Result\n",
              "0  1955–56  Real Madrid  ...       Real Madridvs.Stade de Reims     4-3\n",
              "1  1956–57  Real Madrid  ...           Real Madridvs.Fiorentina     2-0\n",
              "2  1957–58  Real Madrid  ...                Real Madridvs.Milan     3-2\n",
              "3  1958–59  Real Madrid  ...       Real Madridvs.Stade de Reims     2-0\n",
              "4  1959–60  Real Madrid  ...  Real Madridvs.Eintracht Frankfurt     7-3\n",
              "\n",
              "[5 rows x 21 columns]"
            ]
          },
          "metadata": {},
          "execution_count": 8
        }
      ]
    },
    {
      "cell_type": "code",
      "source": [
        "df['Goals'] = df['Winner Score'] + df['Finalist Score']\n",
        "df.head()"
      ],
      "metadata": {
        "colab": {
          "base_uri": "https://localhost:8080/",
          "height": 467
        },
        "id": "p3T5WJb9x8JC",
        "outputId": "aa0224c4-25ed-4bdf-9eed-05986e02983f"
      },
      "execution_count": null,
      "outputs": [
        {
          "output_type": "execute_result",
          "data": {
            "text/html": [
              "<div>\n",
              "<style scoped>\n",
              "    .dataframe tbody tr th:only-of-type {\n",
              "        vertical-align: middle;\n",
              "    }\n",
              "\n",
              "    .dataframe tbody tr th {\n",
              "        vertical-align: top;\n",
              "    }\n",
              "\n",
              "    .dataframe thead th {\n",
              "        text-align: right;\n",
              "    }\n",
              "</style>\n",
              "<table border=\"1\" class=\"dataframe\">\n",
              "  <thead>\n",
              "    <tr style=\"text-align: right;\">\n",
              "      <th></th>\n",
              "      <th>Season</th>\n",
              "      <th>Winner</th>\n",
              "      <th>Winner Country</th>\n",
              "      <th>Winner Score</th>\n",
              "      <th>scorer 1</th>\n",
              "      <th>scorer 2</th>\n",
              "      <th>scorer 3</th>\n",
              "      <th>scorer 4</th>\n",
              "      <th>scorer 5</th>\n",
              "      <th>scorer 6</th>\n",
              "      <th>scorer 7</th>\n",
              "      <th>Finalist Score</th>\n",
              "      <th>opponent scorer 1</th>\n",
              "      <th>opponent scorer 2</th>\n",
              "      <th>opponent scorer 3</th>\n",
              "      <th>Finalist</th>\n",
              "      <th>Finalist Country</th>\n",
              "      <th>Venue</th>\n",
              "      <th>Attendance</th>\n",
              "      <th>Game</th>\n",
              "      <th>Result</th>\n",
              "      <th>Goals</th>\n",
              "    </tr>\n",
              "  </thead>\n",
              "  <tbody>\n",
              "    <tr>\n",
              "      <th>0</th>\n",
              "      <td>1955–56</td>\n",
              "      <td>Real Madrid</td>\n",
              "      <td>Spain</td>\n",
              "      <td>4</td>\n",
              "      <td>Di Stefano</td>\n",
              "      <td>Rial</td>\n",
              "      <td>Marquitos</td>\n",
              "      <td>Rial</td>\n",
              "      <td>NaN</td>\n",
              "      <td>NaN</td>\n",
              "      <td>NaN</td>\n",
              "      <td>3</td>\n",
              "      <td>Leblond</td>\n",
              "      <td>Templin</td>\n",
              "      <td>Hidalgo</td>\n",
              "      <td>Stade de Reims</td>\n",
              "      <td>France</td>\n",
              "      <td>France Parc des Princes, Paris</td>\n",
              "      <td>38239</td>\n",
              "      <td>Real Madridvs.Stade de Reims</td>\n",
              "      <td>4-3</td>\n",
              "      <td>7</td>\n",
              "    </tr>\n",
              "    <tr>\n",
              "      <th>1</th>\n",
              "      <td>1956–57</td>\n",
              "      <td>Real Madrid</td>\n",
              "      <td>Spain</td>\n",
              "      <td>2</td>\n",
              "      <td>Di Stefano</td>\n",
              "      <td>Gento</td>\n",
              "      <td>NaN</td>\n",
              "      <td>NaN</td>\n",
              "      <td>NaN</td>\n",
              "      <td>NaN</td>\n",
              "      <td>NaN</td>\n",
              "      <td>0</td>\n",
              "      <td>NaN</td>\n",
              "      <td>NaN</td>\n",
              "      <td>NaN</td>\n",
              "      <td>Fiorentina</td>\n",
              "      <td>Italy</td>\n",
              "      <td>Spain Santiago Bernabéu Stadium, Madrid</td>\n",
              "      <td>124000</td>\n",
              "      <td>Real Madridvs.Fiorentina</td>\n",
              "      <td>2-0</td>\n",
              "      <td>2</td>\n",
              "    </tr>\n",
              "    <tr>\n",
              "      <th>2</th>\n",
              "      <td>1957–58</td>\n",
              "      <td>Real Madrid</td>\n",
              "      <td>Spain</td>\n",
              "      <td>3</td>\n",
              "      <td>Di Stefano</td>\n",
              "      <td>Rial</td>\n",
              "      <td>Gento</td>\n",
              "      <td>NaN</td>\n",
              "      <td>NaN</td>\n",
              "      <td>NaN</td>\n",
              "      <td>NaN</td>\n",
              "      <td>2</td>\n",
              "      <td>Schiaffino</td>\n",
              "      <td>Grillo</td>\n",
              "      <td>NaN</td>\n",
              "      <td>Milan</td>\n",
              "      <td>Italy</td>\n",
              "      <td>Belgium Heysel Stadium, Brussels</td>\n",
              "      <td>67000</td>\n",
              "      <td>Real Madridvs.Milan</td>\n",
              "      <td>3-2</td>\n",
              "      <td>5</td>\n",
              "    </tr>\n",
              "    <tr>\n",
              "      <th>3</th>\n",
              "      <td>1958–59</td>\n",
              "      <td>Real Madrid</td>\n",
              "      <td>Spain</td>\n",
              "      <td>2</td>\n",
              "      <td>Mateos</td>\n",
              "      <td>Di Stefano</td>\n",
              "      <td>NaN</td>\n",
              "      <td>NaN</td>\n",
              "      <td>NaN</td>\n",
              "      <td>NaN</td>\n",
              "      <td>NaN</td>\n",
              "      <td>0</td>\n",
              "      <td>NaN</td>\n",
              "      <td>NaN</td>\n",
              "      <td>NaN</td>\n",
              "      <td>Stade de Reims</td>\n",
              "      <td>France</td>\n",
              "      <td>West Germany Neckarstadion, Stuttgart</td>\n",
              "      <td>72000</td>\n",
              "      <td>Real Madridvs.Stade de Reims</td>\n",
              "      <td>2-0</td>\n",
              "      <td>2</td>\n",
              "    </tr>\n",
              "    <tr>\n",
              "      <th>4</th>\n",
              "      <td>1959–60</td>\n",
              "      <td>Real Madrid</td>\n",
              "      <td>Spain</td>\n",
              "      <td>7</td>\n",
              "      <td>Di Stefano</td>\n",
              "      <td>Di Stefano</td>\n",
              "      <td>Puskas</td>\n",
              "      <td>Puskas</td>\n",
              "      <td>Puskas</td>\n",
              "      <td>Puskas</td>\n",
              "      <td>Di Stefano</td>\n",
              "      <td>3</td>\n",
              "      <td>Kreiss</td>\n",
              "      <td>Stein</td>\n",
              "      <td>Stein</td>\n",
              "      <td>Eintracht Frankfurt</td>\n",
              "      <td>West Germany</td>\n",
              "      <td>Scotland Hampden Park, Glasgow</td>\n",
              "      <td>127621</td>\n",
              "      <td>Real Madridvs.Eintracht Frankfurt</td>\n",
              "      <td>7-3</td>\n",
              "      <td>10</td>\n",
              "    </tr>\n",
              "  </tbody>\n",
              "</table>\n",
              "</div>"
            ],
            "text/plain": [
              "    Season       Winner  ... Result  Goals\n",
              "0  1955–56  Real Madrid  ...    4-3      7\n",
              "1  1956–57  Real Madrid  ...    2-0      2\n",
              "2  1957–58  Real Madrid  ...    3-2      5\n",
              "3  1958–59  Real Madrid  ...    2-0      2\n",
              "4  1959–60  Real Madrid  ...    7-3     10\n",
              "\n",
              "[5 rows x 22 columns]"
            ]
          },
          "metadata": {},
          "execution_count": 10
        }
      ]
    },
    {
      "cell_type": "code",
      "source": [
        "df_red = df[['Season','Winner','Game','Result','Goals','Venue','Attendance']]\n",
        "df_red.head()"
      ],
      "metadata": {
        "colab": {
          "base_uri": "https://localhost:8080/",
          "height": 292
        },
        "id": "v_OHEcw2y8EJ",
        "outputId": "8b1a3181-1ab3-4f1d-add7-587f48b6ba57"
      },
      "execution_count": null,
      "outputs": [
        {
          "output_type": "execute_result",
          "data": {
            "text/html": [
              "<div>\n",
              "<style scoped>\n",
              "    .dataframe tbody tr th:only-of-type {\n",
              "        vertical-align: middle;\n",
              "    }\n",
              "\n",
              "    .dataframe tbody tr th {\n",
              "        vertical-align: top;\n",
              "    }\n",
              "\n",
              "    .dataframe thead th {\n",
              "        text-align: right;\n",
              "    }\n",
              "</style>\n",
              "<table border=\"1\" class=\"dataframe\">\n",
              "  <thead>\n",
              "    <tr style=\"text-align: right;\">\n",
              "      <th></th>\n",
              "      <th>Season</th>\n",
              "      <th>Winner</th>\n",
              "      <th>Game</th>\n",
              "      <th>Result</th>\n",
              "      <th>Goals</th>\n",
              "      <th>Venue</th>\n",
              "      <th>Attendance</th>\n",
              "    </tr>\n",
              "  </thead>\n",
              "  <tbody>\n",
              "    <tr>\n",
              "      <th>0</th>\n",
              "      <td>1955–56</td>\n",
              "      <td>Real Madrid</td>\n",
              "      <td>Real Madridvs.Stade de Reims</td>\n",
              "      <td>4-3</td>\n",
              "      <td>7</td>\n",
              "      <td>France Parc des Princes, Paris</td>\n",
              "      <td>38239</td>\n",
              "    </tr>\n",
              "    <tr>\n",
              "      <th>1</th>\n",
              "      <td>1956–57</td>\n",
              "      <td>Real Madrid</td>\n",
              "      <td>Real Madridvs.Fiorentina</td>\n",
              "      <td>2-0</td>\n",
              "      <td>2</td>\n",
              "      <td>Spain Santiago Bernabéu Stadium, Madrid</td>\n",
              "      <td>124000</td>\n",
              "    </tr>\n",
              "    <tr>\n",
              "      <th>2</th>\n",
              "      <td>1957–58</td>\n",
              "      <td>Real Madrid</td>\n",
              "      <td>Real Madridvs.Milan</td>\n",
              "      <td>3-2</td>\n",
              "      <td>5</td>\n",
              "      <td>Belgium Heysel Stadium, Brussels</td>\n",
              "      <td>67000</td>\n",
              "    </tr>\n",
              "    <tr>\n",
              "      <th>3</th>\n",
              "      <td>1958–59</td>\n",
              "      <td>Real Madrid</td>\n",
              "      <td>Real Madridvs.Stade de Reims</td>\n",
              "      <td>2-0</td>\n",
              "      <td>2</td>\n",
              "      <td>West Germany Neckarstadion, Stuttgart</td>\n",
              "      <td>72000</td>\n",
              "    </tr>\n",
              "    <tr>\n",
              "      <th>4</th>\n",
              "      <td>1959–60</td>\n",
              "      <td>Real Madrid</td>\n",
              "      <td>Real Madridvs.Eintracht Frankfurt</td>\n",
              "      <td>7-3</td>\n",
              "      <td>10</td>\n",
              "      <td>Scotland Hampden Park, Glasgow</td>\n",
              "      <td>127621</td>\n",
              "    </tr>\n",
              "  </tbody>\n",
              "</table>\n",
              "</div>"
            ],
            "text/plain": [
              "    Season       Winner  ...                                    Venue Attendance\n",
              "0  1955–56  Real Madrid  ...           France Parc des Princes, Paris      38239\n",
              "1  1956–57  Real Madrid  ...  Spain Santiago Bernabéu Stadium, Madrid     124000\n",
              "2  1957–58  Real Madrid  ...         Belgium Heysel Stadium, Brussels      67000\n",
              "3  1958–59  Real Madrid  ...    West Germany Neckarstadion, Stuttgart      72000\n",
              "4  1959–60  Real Madrid  ...           Scotland Hampden Park, Glasgow     127621\n",
              "\n",
              "[5 rows x 7 columns]"
            ]
          },
          "metadata": {},
          "execution_count": 11
        }
      ]
    },
    {
      "cell_type": "markdown",
      "source": [
        "Promedio de goles usando el metodo mean()"
      ],
      "metadata": {
        "id": "ciNz5JLNzXU8"
      }
    },
    {
      "cell_type": "code",
      "source": [
        "df_red['Goals'].mean()"
      ],
      "metadata": {
        "colab": {
          "base_uri": "https://localhost:8080/"
        },
        "id": "nTu642kxzS8k",
        "outputId": "3887c9ff-18a3-473b-d9bb-749465b16434"
      },
      "execution_count": null,
      "outputs": [
        {
          "output_type": "execute_result",
          "data": {
            "text/plain": [
              "2.725806451612903"
            ]
          },
          "metadata": {},
          "execution_count": 12
        }
      ]
    },
    {
      "cell_type": "code",
      "source": [
        "df_red['Attendance'].mean()"
      ],
      "metadata": {
        "colab": {
          "base_uri": "https://localhost:8080/"
        },
        "id": "vmeqQqoszaU5",
        "outputId": "b843c7c5-eebe-4358-991a-5b47d683378f"
      },
      "execution_count": null,
      "outputs": [
        {
          "output_type": "execute_result",
          "data": {
            "text/plain": [
              "66394.64516129032"
            ]
          },
          "metadata": {},
          "execution_count": 13
        }
      ]
    },
    {
      "cell_type": "markdown",
      "source": [
        "Resumen estadistico completo de asistencias y goles, usando describe"
      ],
      "metadata": {
        "id": "Vu70ufMhzfvy"
      }
    },
    {
      "cell_type": "code",
      "source": [
        "df_red[['Attendance','Goals']].describe()"
      ],
      "metadata": {
        "colab": {
          "base_uri": "https://localhost:8080/",
          "height": 299
        },
        "id": "h92VBR96zem_",
        "outputId": "e7423be6-f0d6-4cfe-a78d-26cd7959f5bf"
      },
      "execution_count": null,
      "outputs": [
        {
          "output_type": "execute_result",
          "data": {
            "text/html": [
              "<div>\n",
              "<style scoped>\n",
              "    .dataframe tbody tr th:only-of-type {\n",
              "        vertical-align: middle;\n",
              "    }\n",
              "\n",
              "    .dataframe tbody tr th {\n",
              "        vertical-align: top;\n",
              "    }\n",
              "\n",
              "    .dataframe thead th {\n",
              "        text-align: right;\n",
              "    }\n",
              "</style>\n",
              "<table border=\"1\" class=\"dataframe\">\n",
              "  <thead>\n",
              "    <tr style=\"text-align: right;\">\n",
              "      <th></th>\n",
              "      <th>Attendance</th>\n",
              "      <th>Goals</th>\n",
              "    </tr>\n",
              "  </thead>\n",
              "  <tbody>\n",
              "    <tr>\n",
              "      <th>count</th>\n",
              "      <td>62.000000</td>\n",
              "      <td>62.000000</td>\n",
              "    </tr>\n",
              "    <tr>\n",
              "      <th>mean</th>\n",
              "      <td>66394.645161</td>\n",
              "      <td>2.725806</td>\n",
              "    </tr>\n",
              "    <tr>\n",
              "      <th>std</th>\n",
              "      <td>18594.730692</td>\n",
              "      <td>1.951623</td>\n",
              "    </tr>\n",
              "    <tr>\n",
              "      <th>min</th>\n",
              "      <td>26732.000000</td>\n",
              "      <td>0.000000</td>\n",
              "    </tr>\n",
              "    <tr>\n",
              "      <th>25%</th>\n",
              "      <td>53606.250000</td>\n",
              "      <td>1.000000</td>\n",
              "    </tr>\n",
              "    <tr>\n",
              "      <th>50%</th>\n",
              "      <td>65121.000000</td>\n",
              "      <td>2.000000</td>\n",
              "    </tr>\n",
              "    <tr>\n",
              "      <th>75%</th>\n",
              "      <td>72035.250000</td>\n",
              "      <td>4.000000</td>\n",
              "    </tr>\n",
              "    <tr>\n",
              "      <th>max</th>\n",
              "      <td>127621.000000</td>\n",
              "      <td>10.000000</td>\n",
              "    </tr>\n",
              "  </tbody>\n",
              "</table>\n",
              "</div>"
            ],
            "text/plain": [
              "          Attendance      Goals\n",
              "count      62.000000  62.000000\n",
              "mean    66394.645161   2.725806\n",
              "std     18594.730692   1.951623\n",
              "min     26732.000000   0.000000\n",
              "25%     53606.250000   1.000000\n",
              "50%     65121.000000   2.000000\n",
              "75%     72035.250000   4.000000\n",
              "max    127621.000000  10.000000"
            ]
          },
          "metadata": {},
          "execution_count": 14
        }
      ]
    },
    {
      "cell_type": "markdown",
      "source": [
        "1.¿Cual es el equipo con mas trofeos?"
      ],
      "metadata": {
        "id": "1Osnr4fmzqIm"
      }
    },
    {
      "cell_type": "code",
      "source": [
        "df_red['Winner'].value_counts()"
      ],
      "metadata": {
        "colab": {
          "base_uri": "https://localhost:8080/"
        },
        "id": "IBcfo1V9zsTs",
        "outputId": "05ebb66d-ac79-4138-9ff1-a7a88a556946"
      },
      "execution_count": null,
      "outputs": [
        {
          "output_type": "execute_result",
          "data": {
            "text/plain": [
              "Real Madrid          12\n",
              "Milan                 7\n",
              "Bayern Munich         5\n",
              "Barcelona             5\n",
              "Liverpool             5\n",
              "Ajax                  4\n",
              "Manchester United     3\n",
              "Internazionale        3\n",
              "Porto                 2\n",
              "Nottingham Forest     2\n",
              "Benfica               2\n",
              "Juventus              2\n",
              "Feyenoord             1\n",
              "Chelsea               1\n",
              "Aston Villa           1\n",
              "PSV Eindhoven         1\n",
              "Hamburg               1\n",
              "Borussia Dortmund     1\n",
              "Steaua București      1\n",
              "Celtic                1\n",
              "Marseille             1\n",
              "Red Star Belgrade     1\n",
              "Name: Winner, dtype: int64"
            ]
          },
          "metadata": {},
          "execution_count": 15
        }
      ]
    },
    {
      "cell_type": "markdown",
      "source": [
        "2.¿En que temporada gano el equipo con mas trofeos?"
      ],
      "metadata": {
        "id": "ONrT0EK7z30j"
      }
    },
    {
      "cell_type": "code",
      "source": [
        "df_red[(df_red['Winner'] == 'Real Madrid')]"
      ],
      "metadata": {
        "colab": {
          "base_uri": "https://localhost:8080/",
          "height": 632
        },
        "id": "UeymVlLVz6ib",
        "outputId": "3fa6712f-256f-46c8-ef81-35ef90c02ac5"
      },
      "execution_count": null,
      "outputs": [
        {
          "output_type": "execute_result",
          "data": {
            "text/html": [
              "<div>\n",
              "<style scoped>\n",
              "    .dataframe tbody tr th:only-of-type {\n",
              "        vertical-align: middle;\n",
              "    }\n",
              "\n",
              "    .dataframe tbody tr th {\n",
              "        vertical-align: top;\n",
              "    }\n",
              "\n",
              "    .dataframe thead th {\n",
              "        text-align: right;\n",
              "    }\n",
              "</style>\n",
              "<table border=\"1\" class=\"dataframe\">\n",
              "  <thead>\n",
              "    <tr style=\"text-align: right;\">\n",
              "      <th></th>\n",
              "      <th>Season</th>\n",
              "      <th>Winner</th>\n",
              "      <th>Game</th>\n",
              "      <th>Result</th>\n",
              "      <th>Goals</th>\n",
              "      <th>Venue</th>\n",
              "      <th>Attendance</th>\n",
              "    </tr>\n",
              "  </thead>\n",
              "  <tbody>\n",
              "    <tr>\n",
              "      <th>0</th>\n",
              "      <td>1955–56</td>\n",
              "      <td>Real Madrid</td>\n",
              "      <td>Real Madridvs.Stade de Reims</td>\n",
              "      <td>4-3</td>\n",
              "      <td>7</td>\n",
              "      <td>France Parc des Princes, Paris</td>\n",
              "      <td>38239</td>\n",
              "    </tr>\n",
              "    <tr>\n",
              "      <th>1</th>\n",
              "      <td>1956–57</td>\n",
              "      <td>Real Madrid</td>\n",
              "      <td>Real Madridvs.Fiorentina</td>\n",
              "      <td>2-0</td>\n",
              "      <td>2</td>\n",
              "      <td>Spain Santiago Bernabéu Stadium, Madrid</td>\n",
              "      <td>124000</td>\n",
              "    </tr>\n",
              "    <tr>\n",
              "      <th>2</th>\n",
              "      <td>1957–58</td>\n",
              "      <td>Real Madrid</td>\n",
              "      <td>Real Madridvs.Milan</td>\n",
              "      <td>3-2</td>\n",
              "      <td>5</td>\n",
              "      <td>Belgium Heysel Stadium, Brussels</td>\n",
              "      <td>67000</td>\n",
              "    </tr>\n",
              "    <tr>\n",
              "      <th>3</th>\n",
              "      <td>1958–59</td>\n",
              "      <td>Real Madrid</td>\n",
              "      <td>Real Madridvs.Stade de Reims</td>\n",
              "      <td>2-0</td>\n",
              "      <td>2</td>\n",
              "      <td>West Germany Neckarstadion, Stuttgart</td>\n",
              "      <td>72000</td>\n",
              "    </tr>\n",
              "    <tr>\n",
              "      <th>4</th>\n",
              "      <td>1959–60</td>\n",
              "      <td>Real Madrid</td>\n",
              "      <td>Real Madridvs.Eintracht Frankfurt</td>\n",
              "      <td>7-3</td>\n",
              "      <td>10</td>\n",
              "      <td>Scotland Hampden Park, Glasgow</td>\n",
              "      <td>127621</td>\n",
              "    </tr>\n",
              "    <tr>\n",
              "      <th>10</th>\n",
              "      <td>1965–66</td>\n",
              "      <td>Real Madrid</td>\n",
              "      <td>Real Madridvs.Partizan</td>\n",
              "      <td>2-1</td>\n",
              "      <td>3</td>\n",
              "      <td>Belgium Heysel Stadium, Brussels</td>\n",
              "      <td>46745</td>\n",
              "    </tr>\n",
              "    <tr>\n",
              "      <th>42</th>\n",
              "      <td>1997–98</td>\n",
              "      <td>Real Madrid</td>\n",
              "      <td>Real Madridvs.Juventus</td>\n",
              "      <td>1-0</td>\n",
              "      <td>1</td>\n",
              "      <td>Netherlands Amsterdam Arena, Amsterdam</td>\n",
              "      <td>48500</td>\n",
              "    </tr>\n",
              "    <tr>\n",
              "      <th>44</th>\n",
              "      <td>1999–2000</td>\n",
              "      <td>Real Madrid</td>\n",
              "      <td>Real Madridvs.Valencia</td>\n",
              "      <td>3-0</td>\n",
              "      <td>3</td>\n",
              "      <td>France Stade de France, Saint-Denis</td>\n",
              "      <td>80000</td>\n",
              "    </tr>\n",
              "    <tr>\n",
              "      <th>46</th>\n",
              "      <td>2001–02</td>\n",
              "      <td>Real Madrid</td>\n",
              "      <td>Real Madridvs.Bayer Leverkusen</td>\n",
              "      <td>2-1</td>\n",
              "      <td>3</td>\n",
              "      <td>Scotland Hampden Park, Glasgow</td>\n",
              "      <td>50499</td>\n",
              "    </tr>\n",
              "    <tr>\n",
              "      <th>58</th>\n",
              "      <td>2013–14</td>\n",
              "      <td>Real Madrid</td>\n",
              "      <td>Real Madridvs.Atlético Madrid</td>\n",
              "      <td>4-1</td>\n",
              "      <td>5</td>\n",
              "      <td>Portugal Estádio da Luz, Lisbon</td>\n",
              "      <td>60976</td>\n",
              "    </tr>\n",
              "    <tr>\n",
              "      <th>60</th>\n",
              "      <td>2015–16</td>\n",
              "      <td>Real Madrid</td>\n",
              "      <td>Real Madridvs.Atlético Madrid</td>\n",
              "      <td>1-1</td>\n",
              "      <td>2</td>\n",
              "      <td>Italy San Siro, Milan</td>\n",
              "      <td>71942</td>\n",
              "    </tr>\n",
              "    <tr>\n",
              "      <th>61</th>\n",
              "      <td>2016–17</td>\n",
              "      <td>Real Madrid</td>\n",
              "      <td>Real Madridvs.Juventus</td>\n",
              "      <td>4-1</td>\n",
              "      <td>5</td>\n",
              "      <td>Wales Millennium Stadium, Cardiff</td>\n",
              "      <td>65842</td>\n",
              "    </tr>\n",
              "  </tbody>\n",
              "</table>\n",
              "</div>"
            ],
            "text/plain": [
              "       Season       Winner  ...                                    Venue Attendance\n",
              "0     1955–56  Real Madrid  ...           France Parc des Princes, Paris      38239\n",
              "1     1956–57  Real Madrid  ...  Spain Santiago Bernabéu Stadium, Madrid     124000\n",
              "2     1957–58  Real Madrid  ...         Belgium Heysel Stadium, Brussels      67000\n",
              "3     1958–59  Real Madrid  ...    West Germany Neckarstadion, Stuttgart      72000\n",
              "4     1959–60  Real Madrid  ...           Scotland Hampden Park, Glasgow     127621\n",
              "10    1965–66  Real Madrid  ...         Belgium Heysel Stadium, Brussels      46745\n",
              "42    1997–98  Real Madrid  ...   Netherlands Amsterdam Arena, Amsterdam      48500\n",
              "44  1999–2000  Real Madrid  ...      France Stade de France, Saint-Denis      80000\n",
              "46    2001–02  Real Madrid  ...           Scotland Hampden Park, Glasgow      50499\n",
              "58    2013–14  Real Madrid  ...          Portugal Estádio da Luz, Lisbon      60976\n",
              "60    2015–16  Real Madrid  ...                    Italy San Siro, Milan      71942\n",
              "61    2016–17  Real Madrid  ...        Wales Millennium Stadium, Cardiff      65842\n",
              "\n",
              "[12 rows x 7 columns]"
            ]
          },
          "metadata": {},
          "execution_count": 17
        }
      ]
    },
    {
      "cell_type": "markdown",
      "source": [
        "Si desamos mostrar solo las temporadas, usamos el d filtrado a otro df que contenga esa columna"
      ],
      "metadata": {
        "id": "wNxD8mCv0NO7"
      }
    },
    {
      "cell_type": "code",
      "source": [
        "rm = df_red[(df_red['Winner'] == 'Real Madrid')]\n",
        "rm = rm[['Season','Winner']]\n",
        "rm"
      ],
      "metadata": {
        "colab": {
          "base_uri": "https://localhost:8080/",
          "height": 425
        },
        "id": "_AqKOuEr0SBa",
        "outputId": "e583e6e4-0235-4e98-e7c1-1d20bd077f9b"
      },
      "execution_count": null,
      "outputs": [
        {
          "output_type": "execute_result",
          "data": {
            "text/html": [
              "<div>\n",
              "<style scoped>\n",
              "    .dataframe tbody tr th:only-of-type {\n",
              "        vertical-align: middle;\n",
              "    }\n",
              "\n",
              "    .dataframe tbody tr th {\n",
              "        vertical-align: top;\n",
              "    }\n",
              "\n",
              "    .dataframe thead th {\n",
              "        text-align: right;\n",
              "    }\n",
              "</style>\n",
              "<table border=\"1\" class=\"dataframe\">\n",
              "  <thead>\n",
              "    <tr style=\"text-align: right;\">\n",
              "      <th></th>\n",
              "      <th>Season</th>\n",
              "      <th>Winner</th>\n",
              "    </tr>\n",
              "  </thead>\n",
              "  <tbody>\n",
              "    <tr>\n",
              "      <th>0</th>\n",
              "      <td>1955–56</td>\n",
              "      <td>Real Madrid</td>\n",
              "    </tr>\n",
              "    <tr>\n",
              "      <th>1</th>\n",
              "      <td>1956–57</td>\n",
              "      <td>Real Madrid</td>\n",
              "    </tr>\n",
              "    <tr>\n",
              "      <th>2</th>\n",
              "      <td>1957–58</td>\n",
              "      <td>Real Madrid</td>\n",
              "    </tr>\n",
              "    <tr>\n",
              "      <th>3</th>\n",
              "      <td>1958–59</td>\n",
              "      <td>Real Madrid</td>\n",
              "    </tr>\n",
              "    <tr>\n",
              "      <th>4</th>\n",
              "      <td>1959–60</td>\n",
              "      <td>Real Madrid</td>\n",
              "    </tr>\n",
              "    <tr>\n",
              "      <th>10</th>\n",
              "      <td>1965–66</td>\n",
              "      <td>Real Madrid</td>\n",
              "    </tr>\n",
              "    <tr>\n",
              "      <th>42</th>\n",
              "      <td>1997–98</td>\n",
              "      <td>Real Madrid</td>\n",
              "    </tr>\n",
              "    <tr>\n",
              "      <th>44</th>\n",
              "      <td>1999–2000</td>\n",
              "      <td>Real Madrid</td>\n",
              "    </tr>\n",
              "    <tr>\n",
              "      <th>46</th>\n",
              "      <td>2001–02</td>\n",
              "      <td>Real Madrid</td>\n",
              "    </tr>\n",
              "    <tr>\n",
              "      <th>58</th>\n",
              "      <td>2013–14</td>\n",
              "      <td>Real Madrid</td>\n",
              "    </tr>\n",
              "    <tr>\n",
              "      <th>60</th>\n",
              "      <td>2015–16</td>\n",
              "      <td>Real Madrid</td>\n",
              "    </tr>\n",
              "    <tr>\n",
              "      <th>61</th>\n",
              "      <td>2016–17</td>\n",
              "      <td>Real Madrid</td>\n",
              "    </tr>\n",
              "  </tbody>\n",
              "</table>\n",
              "</div>"
            ],
            "text/plain": [
              "       Season       Winner\n",
              "0     1955–56  Real Madrid\n",
              "1     1956–57  Real Madrid\n",
              "2     1957–58  Real Madrid\n",
              "3     1958–59  Real Madrid\n",
              "4     1959–60  Real Madrid\n",
              "10    1965–66  Real Madrid\n",
              "42    1997–98  Real Madrid\n",
              "44  1999–2000  Real Madrid\n",
              "46    2001–02  Real Madrid\n",
              "58    2013–14  Real Madrid\n",
              "60    2015–16  Real Madrid\n",
              "61    2016–17  Real Madrid"
            ]
          },
          "metadata": {},
          "execution_count": 26
        }
      ]
    },
    {
      "cell_type": "markdown",
      "source": [
        "3.¿Cuales son las 5 finales con mas asistencias?"
      ],
      "metadata": {
        "id": "IPiAVXK-0do2"
      }
    },
    {
      "cell_type": "code",
      "source": [
        "df_red.sort_values('Attendance', ascending=False).head(5)"
      ],
      "metadata": {
        "colab": {
          "base_uri": "https://localhost:8080/",
          "height": 292
        },
        "id": "dKDsGObz0gDi",
        "outputId": "2efd1255-935a-44a2-ad4c-650240c5a677"
      },
      "execution_count": null,
      "outputs": [
        {
          "output_type": "execute_result",
          "data": {
            "text/html": [
              "<div>\n",
              "<style scoped>\n",
              "    .dataframe tbody tr th:only-of-type {\n",
              "        vertical-align: middle;\n",
              "    }\n",
              "\n",
              "    .dataframe tbody tr th {\n",
              "        vertical-align: top;\n",
              "    }\n",
              "\n",
              "    .dataframe thead th {\n",
              "        text-align: right;\n",
              "    }\n",
              "</style>\n",
              "<table border=\"1\" class=\"dataframe\">\n",
              "  <thead>\n",
              "    <tr style=\"text-align: right;\">\n",
              "      <th></th>\n",
              "      <th>Season</th>\n",
              "      <th>Winner</th>\n",
              "      <th>Game</th>\n",
              "      <th>Result</th>\n",
              "      <th>Goals</th>\n",
              "      <th>Venue</th>\n",
              "      <th>Attendance</th>\n",
              "    </tr>\n",
              "  </thead>\n",
              "  <tbody>\n",
              "    <tr>\n",
              "      <th>4</th>\n",
              "      <td>1959–60</td>\n",
              "      <td>Real Madrid</td>\n",
              "      <td>Real Madridvs.Eintracht Frankfurt</td>\n",
              "      <td>7-3</td>\n",
              "      <td>10</td>\n",
              "      <td>Scotland Hampden Park, Glasgow</td>\n",
              "      <td>127621</td>\n",
              "    </tr>\n",
              "    <tr>\n",
              "      <th>1</th>\n",
              "      <td>1956–57</td>\n",
              "      <td>Real Madrid</td>\n",
              "      <td>Real Madridvs.Fiorentina</td>\n",
              "      <td>2-0</td>\n",
              "      <td>2</td>\n",
              "      <td>Spain Santiago Bernabéu Stadium, Madrid</td>\n",
              "      <td>124000</td>\n",
              "    </tr>\n",
              "    <tr>\n",
              "      <th>33</th>\n",
              "      <td>1988–89</td>\n",
              "      <td>Milan</td>\n",
              "      <td>Milanvs.Steaua București</td>\n",
              "      <td>4-0</td>\n",
              "      <td>4</td>\n",
              "      <td>Spain Camp Nou, Barcelona</td>\n",
              "      <td>97000</td>\n",
              "    </tr>\n",
              "    <tr>\n",
              "      <th>22</th>\n",
              "      <td>1977–78</td>\n",
              "      <td>Liverpool</td>\n",
              "      <td>Liverpoolvs.Club Brugge</td>\n",
              "      <td>1-0</td>\n",
              "      <td>1</td>\n",
              "      <td>England Wembley Stadium, London</td>\n",
              "      <td>92500</td>\n",
              "    </tr>\n",
              "    <tr>\n",
              "      <th>12</th>\n",
              "      <td>1967–68</td>\n",
              "      <td>Manchester United</td>\n",
              "      <td>Manchester Unitedvs.Benfica</td>\n",
              "      <td>4-1</td>\n",
              "      <td>5</td>\n",
              "      <td>England Wembley Stadium, London</td>\n",
              "      <td>92225</td>\n",
              "    </tr>\n",
              "  </tbody>\n",
              "</table>\n",
              "</div>"
            ],
            "text/plain": [
              "     Season  ... Attendance\n",
              "4   1959–60  ...     127621\n",
              "1   1956–57  ...     124000\n",
              "33  1988–89  ...      97000\n",
              "22  1977–78  ...      92500\n",
              "12  1967–68  ...      92225\n",
              "\n",
              "[5 rows x 7 columns]"
            ]
          },
          "metadata": {},
          "execution_count": 20
        }
      ]
    },
    {
      "cell_type": "markdown",
      "source": [
        "***Visualizando datos con Matplotlib***"
      ],
      "metadata": {
        "id": "SaEg3ndS0uQE"
      }
    },
    {
      "cell_type": "markdown",
      "source": [
        "1.Tendencia de asistencia"
      ],
      "metadata": {
        "id": "7XNU7j0w0ywH"
      }
    },
    {
      "cell_type": "markdown",
      "source": [
        "- Grafico de linea"
      ],
      "metadata": {
        "id": "lEZW7Ey401nk"
      }
    },
    {
      "cell_type": "code",
      "source": [
        "plt.figure(figsize=(20,5))\n",
        "plt.xticks(rotation=90)\n",
        "plt.plot('Season','Attendance',data=df_red)"
      ],
      "metadata": {
        "colab": {
          "base_uri": "https://localhost:8080/",
          "height": 275
        },
        "id": "BVaaOz3d00QW",
        "outputId": "ff0bd21d-297d-4bd6-9f19-cb20c5e3d00a"
      },
      "execution_count": null,
      "outputs": [
        {
          "output_type": "execute_result",
          "data": {
            "text/plain": [
              "[<matplotlib.lines.Line2D at 0x7f467bfaca90>]"
            ]
          },
          "metadata": {},
          "execution_count": 22
        },
        {
          "output_type": "display_data",
          "data": {
            "image/png": "[encoded data removed]",
            "text/plain": [
              "<Figure size 1440x360 with 1 Axes>"
            ]
          },
          "metadata": {
            "needs_background": "light"
          }
        }
      ]
    },
    {
      "cell_type": "markdown",
      "source": [
        "2.Numero de trofeos por equipo"
      ],
      "metadata": {
        "id": "c3btUrLZ1LcW"
      }
    },
    {
      "cell_type": "markdown",
      "source": [
        "- Metodo plot() con metodo value_counts()"
      ],
      "metadata": {
        "id": "L8wbuIix01j5"
      }
    },
    {
      "cell_type": "code",
      "source": [
        "df_red['Winner'].value_counts().plot.bar()"
      ],
      "metadata": {
        "colab": {
          "base_uri": "https://localhost:8080/",
          "height": 370
        },
        "id": "yIQ89k-c1RJM",
        "outputId": "1e5aa472-8520-4e78-b85f-c9cdb7336200"
      },
      "execution_count": null,
      "outputs": [
        {
          "output_type": "execute_result",
          "data": {
            "text/plain": [
              "<matplotlib.axes._subplots.AxesSubplot at 0x7f467c4e7990>"
            ]
          },
          "metadata": {},
          "execution_count": 25
        },
        {
          "output_type": "display_data",
          "data": {
            "image/png": "[encoded data removed]",
            "text/plain": [
              "<Figure size 432x288 with 1 Axes>"
            ]
          },
          "metadata": {
            "needs_background": "light"
          }
        }
      ]
    },
    {
      "cell_type": "markdown",
      "source": [
        "- Recreando el gráfico usando barras horizontales"
      ],
      "metadata": {
        "id": "_J4ibBZZ3Gja"
      }
    },
    {
      "cell_type": "code",
      "source": [
        "df_red['Winner'].value_counts().sort_values(ascending=True).plot.barh()"
      ],
      "metadata": {
        "colab": {
          "base_uri": "https://localhost:8080/",
          "height": 283
        },
        "id": "6y-wCknk1X9S",
        "outputId": "a0eb96f7-14ed-446d-9cb3-b54cc7a80091"
      },
      "execution_count": null,
      "outputs": [
        {
          "output_type": "execute_result",
          "data": {
            "text/plain": [
              "<matplotlib.axes._subplots.AxesSubplot at 0x7f467a660950>"
            ]
          },
          "metadata": {},
          "execution_count": 23
        },
        {
          "output_type": "display_data",
          "data": {
            "image/png": "[encoded data removed]",
            "text/plain": [
              "<Figure size 432x288 with 1 Axes>"
            ]
          },
          "metadata": {
            "needs_background": "light"
          }
        }
      ]
    },
    {
      "cell_type": "markdown",
      "source": [
        "3.Distribucion de numero de goles "
      ],
      "metadata": {
        "id": "PqozHxV91iAO"
      }
    },
    {
      "cell_type": "markdown",
      "source": [
        "- Histograma"
      ],
      "metadata": {
        "id": "Z9NfOkT33T6M"
      }
    },
    {
      "cell_type": "code",
      "source": [
        "plt.hist('Goals',data=df_red)"
      ],
      "metadata": {
        "colab": {
          "base_uri": "https://localhost:8080/",
          "height": 319
        },
        "id": "bsYBrim01hpw",
        "outputId": "79677b55-8e85-4b61-a47b-8f676d95bf72"
      },
      "execution_count": null,
      "outputs": [
        {
          "output_type": "execute_result",
          "data": {
            "text/plain": [
              "(array([ 4., 15., 13., 12.,  9.,  5.,  1.,  1.,  1.,  1.]),\n",
              " array([ 0.,  1.,  2.,  3.,  4.,  5.,  6.,  7.,  8.,  9., 10.]),\n",
              " <a list of 10 Patch objects>)"
            ]
          },
          "metadata": {},
          "execution_count": 24
        },
        {
          "output_type": "display_data",
          "data": {
            "image/png": "[encoded data removed]",
            "text/plain": [
              "<Figure size 432x288 with 1 Axes>"
            ]
          },
          "metadata": {
            "needs_background": "light"
          }
        }
      ]
    }
  ]
}